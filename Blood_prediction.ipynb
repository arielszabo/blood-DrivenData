{
 "cells": [
  {
   "cell_type": "code",
   "execution_count": 1,
   "metadata": {},
   "outputs": [],
   "source": [
    "import pandas as pd\n",
    "import numpy as np\n",
    "import matplotlib.pyplot as plt\n",
    "import seaborn as sns\n",
    "%matplotlib inline\n",
    "sns.set()\n",
    "np.random.seed(64)"
   ]
  },
  {
   "cell_type": "code",
   "execution_count": 2,
   "metadata": {},
   "outputs": [],
   "source": [
    "from sklearn.model_selection import train_test_split, RepeatedStratifiedKFold\n",
    "from sklearn.linear_model import LogisticRegression\n",
    "from sklearn.ensemble import RandomForestClassifier\n",
    "from sklearn import metrics\n",
    "from sklearn.pipeline import Pipeline\n",
    "from sklearn.preprocessing import StandardScaler\n",
    "from sklearn.neighbors import KNeighborsClassifier\n",
    "\n",
    "import xgboost as xgb\n",
    "from sklearn.svm import SVC\n",
    "np.random.seed(64)"
   ]
  },
  {
   "cell_type": "code",
   "execution_count": 3,
   "metadata": {},
   "outputs": [],
   "source": [
    "def KFold(X, y, model):\n",
    "    np.random.seed(64)\n",
    "    train_scores = []\n",
    "    test_scores = []\n",
    "    train_logs = []\n",
    "    test_logs = []\n",
    "    for train_index, test_index in RepeatedStratifiedKFold(n_splits=5, n_repeats=5).split(X, y):\n",
    "        x_train, x_test = X.iloc[train_index], X.iloc[test_index]\n",
    "        y_train, y_test = y.iloc[train_index], y.iloc[test_index]\n",
    "        model.fit(x_train, y_train)\n",
    "        pred = model.predict(x_test)\n",
    "\n",
    "        train_logs.append(metrics.log_loss(y_train, model.predict_proba(x_train)))\n",
    "        test_logs.append(metrics.log_loss(y_test, model.predict_proba(x_test)))\n",
    "        train_scores.append(model.score(x_train, y_train))\n",
    "        test_scores.append(model.score(x_test, y_test))\n",
    "        \n",
    "    return train_scores, train_logs, test_scores, test_logs"
   ]
  },
  {
   "cell_type": "code",
   "execution_count": 4,
   "metadata": {},
   "outputs": [],
   "source": [
    "def test_your_model(X, y ,model):\n",
    "    x_train, x_test, y_train, y_test = train_test_split(X, y, stratify=y)\n",
    "    model.fit(x_train, y_train)\n",
    "    print(model.score(x_train, y_train))\n",
    "    print(model.score(x_test, y_test))\n",
    "    print('------------')\n",
    "    print(metrics.log_loss(y_train, model.predict_proba(x_train)))\n",
    "    print(metrics.log_loss(y_test, model.predict_proba(x_test)))\n",
    "    print(metrics.classification_report(y_test, model.predict(x_test)))"
   ]
  },
  {
   "cell_type": "code",
   "execution_count": 8,
   "metadata": {},
   "outputs": [],
   "source": [
    "train = pd.read_csv('train.csv', dtype = {'Made Donation in March 2007':bool}, index_col=0)"
   ]
  },
  {
   "cell_type": "code",
   "execution_count": 9,
   "metadata": {},
   "outputs": [],
   "source": [
    "def preprocess_n_engineering(df):\n",
    "    data = df.copy()\n",
    "    data.rename({'Months since Last Donation':'Months_since_Last_Donation',\n",
    "                'Number of Donations':'Number_of_Donations',\n",
    "                'Total Volume Donated (c.c.)':'Total_Volume_Donated',\n",
    "                'Months since First Donation':'Months_since_First_Donation',\n",
    "                'Made Donation in March 2007':'Made_Donation'},\n",
    "                axis=1, inplace=True)\n",
    "    \n",
    "    \n",
    "    data['months_between_donations'] = data['Months_since_First_Donation'] - data['Months_since_Last_Donation']\n",
    "    data['month_per_donation'] =  data['months_between_donations'] / data['Number_of_Donations'] # 'average time between donations'\n",
    "    #     data['mean_volume_per_donation'] = data['Total_Volume_Donated'] / data['Number_of_Donations']\n",
    "    data['time_to_next_donation'] = data['month_per_donation']  - data['Months_since_Last_Donation']\n",
    "    data['Is_suppose_to_donate'] = data['time_to_next_donation'].apply(lambda x: x <= 0)\n",
    "    data.assign(Sholud_have_been_donation = lambda df: df['time_to_next_donation'] > 0)\n",
    "\n",
    "    return data"
   ]
  },
  {
   "cell_type": "code",
   "execution_count": null,
   "metadata": {},
   "outputs": [],
   "source": []
  },
  {
   "cell_type": "code",
   "execution_count": 10,
   "metadata": {},
   "outputs": [],
   "source": [
    "train = preprocess_n_engineering(train)"
   ]
  },
  {
   "cell_type": "code",
   "execution_count": null,
   "metadata": {},
   "outputs": [],
   "source": []
  },
  {
   "cell_type": "code",
   "execution_count": null,
   "metadata": {},
   "outputs": [],
   "source": []
  },
  {
   "cell_type": "code",
   "execution_count": 12,
   "metadata": {},
   "outputs": [
    {
     "data": {
      "text/plain": [
       "3.1739130434782608"
      ]
     },
     "execution_count": 12,
     "metadata": {},
     "output_type": "execute_result"
    }
   ],
   "source": [
    "neg_pos = np.sum(train['Made_Donation'] == False) / np.sum(train['Made_Donation'] == True)\n",
    "neg_pos"
   ]
  },
  {
   "cell_type": "code",
   "execution_count": 11,
   "metadata": {},
   "outputs": [
    {
     "data": {
      "image/png": "[encoded data removed]",
      "text/plain": [
       "<Figure size 432x288 with 1 Axes>"
      ]
     },
     "metadata": {},
     "output_type": "display_data"
    }
   ],
   "source": [
    "sns.countplot(train['Made_Donation']);"
   ]
  },
  {
   "cell_type": "code",
   "execution_count": 13,
   "metadata": {},
   "outputs": [],
   "source": [
    "np.random.seed(64)\n",
    "X = train.drop('Made_Donation', axis=1)\n",
    "y = train['Made_Donation']"
   ]
  },
  {
   "cell_type": "markdown",
   "metadata": {},
   "source": [
    "# linear models mabe for an ensemble?"
   ]
  },
  {
   "cell_type": "code",
   "execution_count": 47,
   "metadata": {},
   "outputs": [
    {
     "name": "stdout",
     "output_type": "stream",
     "text": [
      "0.6643518518518519\n",
      "0.5902777777777778\n",
      "------------\n",
      "0.581350119833936\n",
      "0.6676555778951584\n",
      "             precision    recall  f1-score   support\n",
      "\n",
      "      False       0.86      0.55      0.67       110\n",
      "       True       0.33      0.71      0.45        34\n",
      "\n",
      "avg / total       0.73      0.59      0.62       144\n",
      "\n"
     ]
    }
   ],
   "source": [
    "np.random.seed(64)\n",
    "model = Pipeline(\n",
    "    [\n",
    "#         ('scaler', StandardScaler()),\n",
    "        ('logreg', LogisticRegression(penalty='l2', C=1, class_weight='balanced',\n",
    "                                      solver='liblinear', max_iter=100))\n",
    "    ]\n",
    ")\n",
    "\n",
    "test_your_model(X, y ,model)"
   ]
  },
  {
   "cell_type": "code",
   "execution_count": 32,
   "metadata": {},
   "outputs": [
    {
     "name": "stdout",
     "output_type": "stream",
     "text": [
      "0.8611111111111112\n",
      "0.6458333333333334\n",
      "------------\n",
      "0.3734742019010742\n",
      "0.6787769382095171\n",
      "             precision    recall  f1-score   support\n",
      "\n",
      "      False       0.82      0.69      0.75       110\n",
      "       True       0.33      0.50      0.40        34\n",
      "\n",
      "avg / total       0.70      0.65      0.67       144\n",
      "\n"
     ]
    },
    {
     "name": "stderr",
     "output_type": "stream",
     "text": [
      "/home/ariel/venv/lib/python3.6/site-packages/sklearn/preprocessing/label.py:151: DeprecationWarning: The truth value of an empty array is ambiguous. Returning False, but in future this will result in an error. Use `array.size > 0` to check that an array is not empty.\n",
      "  if diff:\n",
      "/home/ariel/venv/lib/python3.6/site-packages/sklearn/preprocessing/label.py:151: DeprecationWarning: The truth value of an empty array is ambiguous. Returning False, but in future this will result in an error. Use `array.size > 0` to check that an array is not empty.\n",
      "  if diff:\n",
      "/home/ariel/venv/lib/python3.6/site-packages/sklearn/preprocessing/label.py:151: DeprecationWarning: The truth value of an empty array is ambiguous. Returning False, but in future this will result in an error. Use `array.size > 0` to check that an array is not empty.\n",
      "  if diff:\n"
     ]
    }
   ],
   "source": [
    "np.random.seed(64)\n",
    "model = Pipeline(\n",
    "    [\n",
    "#         ('scaler', StandardScaler()),\n",
    "        ('xgb', xgb.XGBClassifier(scale_pos_weight=neg_pos))\n",
    "\n",
    "    ]\n",
    ")\n",
    "\n",
    "test_your_model(X, y ,model)"
   ]
  },
  {
   "cell_type": "code",
   "execution_count": null,
   "metadata": {},
   "outputs": [],
   "source": [
    "np.random.seed(64)\n",
    "\n",
    "model = Pipeline(\n",
    "    [\n",
    "#         ('scaler', StandardScaler()),\n",
    "        ('RF', RandomForestClassifier(n_estimators=100, criterion='gini', max_depth=10,\n",
    "                                          min_samples_split=4, min_samples_leaf=2, min_weight_fraction_leaf=0.0,\n",
    "                                          max_features='auto', max_leaf_nodes=None, min_impurity_decrease=0.0,\n",
    "                                          min_impurity_split=None, bootstrap=True, oob_score=False, n_jobs=-1,\n",
    "                                          class_weight=None))\n",
    "    ]\n",
    ")\n",
    "test_your_model(X, y ,model)\n",
    "# train_scores, train_logs, test_scores, test_logs = KFold(X, y, model)\n"
   ]
  },
  {
   "cell_type": "markdown",
   "metadata": {},
   "source": [
    "### Grid Search cv"
   ]
  },
  {
   "cell_type": "code",
   "execution_count": null,
   "metadata": {},
   "outputs": [],
   "source": [
    "from sklearn.model_selection import GridSearchCV\n",
    "\n",
    "params = {\n",
    "#     'RF__n_estimators':[10, 50, 100, 200],\n",
    "    'RF__max_depth':[None, 2, 5, 7, 10, 30],\n",
    "#     'RF__class_weight':[None, 'balanced'],\n",
    "#     'RF__max_features':['auto', 0.7, 1.0, 0.5],\n",
    "    'RF__min_samples_leaf':[4, 5, 6, 7],\n",
    "    'RF__min_samples_split':[5, 6, 7, 8]\n",
    "        }\n",
    "\n",
    "GCV = GridSearchCV(model, params, scoring='neg_log_loss', n_jobs=-1, cv=5, verbose=2)\n",
    "GCV.fit(X, y)"
   ]
  },
  {
   "cell_type": "code",
   "execution_count": null,
   "metadata": {},
   "outputs": [],
   "source": [
    "GCV.best_params_"
   ]
  },
  {
   "cell_type": "code",
   "execution_count": null,
   "metadata": {},
   "outputs": [],
   "source": [
    "GCV.best_score_"
   ]
  },
  {
   "cell_type": "markdown",
   "metadata": {},
   "source": [
    "### Log all the data"
   ]
  },
  {
   "cell_type": "code",
   "execution_count": null,
   "metadata": {},
   "outputs": [],
   "source": [
    "np.random.seed(64)\n",
    "x_train_new, x_test_new, y_train, y_test = train_test_split(X_new, y, stratify=y)\n",
    "model.fit(x_train_new, y_train)\n",
    "print(metrics.log_loss(y_train, model.predict_proba(x_train_new)))\n",
    "print(metrics.log_loss(y_test, model.predict_proba(x_test_new)))\n",
    "print(metrics.classification_report(y_test, model.predict(x_test_new)))"
   ]
  },
  {
   "cell_type": "code",
   "execution_count": null,
   "metadata": {},
   "outputs": [],
   "source": [
    "f_importance = RandomForestClassifier().fit(x_train, y_train).feature_importances_\n",
    "pd.DataFrame({'columns':x_train.columns,'scores': f_importance}).sort_values('scores', ascending=False)"
   ]
  },
  {
   "cell_type": "markdown",
   "metadata": {},
   "source": [
    "### How much the test data differs from the train data\n",
    "plot both the train and the test after pca in 2d and see the distribution "
   ]
  },
  {
   "cell_type": "code",
   "execution_count": 48,
   "metadata": {},
   "outputs": [
    {
     "data": {
      "text/html": [
       "<div>\n",
       "<style scoped>\n",
       "    .dataframe tbody tr th:only-of-type {\n",
       "        vertical-align: middle;\n",
       "    }\n",
       "\n",
       "    .dataframe tbody tr th {\n",
       "        vertical-align: top;\n",
       "    }\n",
       "\n",
       "    .dataframe thead th {\n",
       "        text-align: right;\n",
       "    }\n",
       "</style>\n",
       "<table border=\"1\" class=\"dataframe\">\n",
       "  <thead>\n",
       "    <tr style=\"text-align: right;\">\n",
       "      <th></th>\n",
       "      <th>Months since Last Donation</th>\n",
       "      <th>Number of Donations</th>\n",
       "      <th>Total Volume Donated (c.c.)</th>\n",
       "      <th>Months since First Donation</th>\n",
       "    </tr>\n",
       "  </thead>\n",
       "  <tbody>\n",
       "    <tr>\n",
       "      <th>659</th>\n",
       "      <td>2</td>\n",
       "      <td>12</td>\n",
       "      <td>3000</td>\n",
       "      <td>52</td>\n",
       "    </tr>\n",
       "    <tr>\n",
       "      <th>276</th>\n",
       "      <td>21</td>\n",
       "      <td>7</td>\n",
       "      <td>1750</td>\n",
       "      <td>38</td>\n",
       "    </tr>\n",
       "    <tr>\n",
       "      <th>263</th>\n",
       "      <td>4</td>\n",
       "      <td>1</td>\n",
       "      <td>250</td>\n",
       "      <td>4</td>\n",
       "    </tr>\n",
       "    <tr>\n",
       "      <th>303</th>\n",
       "      <td>11</td>\n",
       "      <td>11</td>\n",
       "      <td>2750</td>\n",
       "      <td>38</td>\n",
       "    </tr>\n",
       "    <tr>\n",
       "      <th>83</th>\n",
       "      <td>4</td>\n",
       "      <td>12</td>\n",
       "      <td>3000</td>\n",
       "      <td>34</td>\n",
       "    </tr>\n",
       "  </tbody>\n",
       "</table>\n",
       "</div>"
      ],
      "text/plain": [
       "     Months since Last Donation  Number of Donations  \\\n",
       "659                           2                   12   \n",
       "276                          21                    7   \n",
       "263                           4                    1   \n",
       "303                          11                   11   \n",
       "83                            4                   12   \n",
       "\n",
       "     Total Volume Donated (c.c.)  Months since First Donation  \n",
       "659                         3000                           52  \n",
       "276                         1750                           38  \n",
       "263                          250                            4  \n",
       "303                         2750                           38  \n",
       "83                          3000                           34  "
      ]
     },
     "execution_count": 48,
     "metadata": {},
     "output_type": "execute_result"
    }
   ],
   "source": [
    "test = pd.read_csv('test.csv', index_col=0)\n",
    "test.head()"
   ]
  },
  {
   "cell_type": "code",
   "execution_count": 49,
   "metadata": {},
   "outputs": [],
   "source": [
    "model.fit(X, y)\n",
    "test_proba = model.predict_proba(preprocess_n_engineering(test))"
   ]
  },
  {
   "cell_type": "code",
   "execution_count": 56,
   "metadata": {},
   "outputs": [],
   "source": [
    "sub = pd.DataFrame(test_proba[:, 1], index=test.index, columns=['Made Donation in March 2007'])"
   ]
  },
  {
   "cell_type": "code",
   "execution_count": null,
   "metadata": {},
   "outputs": [],
   "source": []
  },
  {
   "cell_type": "code",
   "execution_count": null,
   "metadata": {},
   "outputs": [],
   "source": []
  }
 ],
 "metadata": {
  "kernelspec": {
   "display_name": "Python 3",
   "language": "python",
   "name": "python3"
  },
  "language_info": {
   "codemirror_mode": {
    "name": "ipython",
    "version": 3
   },
   "file_extension": ".py",
   "mimetype": "text/x-python",
   "name": "python",
   "nbconvert_exporter": "python",
   "pygments_lexer": "ipython3",
   "version": "3.6.3"
  }
 },
 "nbformat": 4,
 "nbformat_minor": 2
}
